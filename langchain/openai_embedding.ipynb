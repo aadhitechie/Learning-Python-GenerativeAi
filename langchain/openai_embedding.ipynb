{
 "cells": [
  {
   "cell_type": "code",
   "execution_count": null,
   "metadata": {},
   "outputs": [
    {
     "data": {
      "text/plain": [
       "[Document(metadata={}, page_content='a 1st-century BC text by the Roman statesman and philosopher Cicero, with words altered, added,')]"
      ]
     },
     "execution_count": 20,
     "metadata": {},
     "output_type": "execute_result"
    }
   ],
   "source": [
    "import os\n",
    "from langchain_community.document_loaders import TextLoader\n",
    "from langchain_text_splitters import RecursiveCharacterTextSplitter\n",
    "from langchain_openai import OpenAIEmbeddings\n",
    "from langchain_community.vectorstores import Chroma\n",
    "from dotenv import load_dotenv\n",
    "\n",
    "\n",
    "#Text loading \n",
    "# textloader = TextLoader(\"lorem.txt\")\n",
    "# textloader = textloader.lazy_load()\n",
    "\n",
    "# print(type(textloader))\n",
    "\n",
    "# Text loading  data to text chunks\n",
    "with open(\"lorem.txt\") as file:\n",
    "    txt_reader = file.read()\n",
    "textSplit = RecursiveCharacterTextSplitter(chunk_size=100,chunk_overlap=20,)\n",
    "data = textSplit.create_documents([txt_reader])\n",
    "\n",
    "#embedding\n",
    "load_dotenv()\n",
    "embedding_data = OpenAIEmbeddings(model=\"text-embedding-3-small\",dimensions=1024)\n",
    "\n",
    "#vector db\n",
    "db = Chroma.from_documents(data,embedding_data)\n",
    "query = \"Roman statesman and philosopher Cicero\"\n",
    "retrived_result = db.similarity_search(query, k =1)\n",
    "retrived_result"
   ]
  },
  {
   "cell_type": "code",
   "execution_count": 22,
   "metadata": {},
   "outputs": [
    {
     "data": {
      "text/plain": [
       "[Document(metadata={}, page_content='a 1st-century BC text by the Roman statesman and philosopher Cicero, with words altered, added,')]"
      ]
     },
     "execution_count": 22,
     "metadata": {},
     "output_type": "execute_result"
    }
   ],
   "source": [
    "retrived_result = db.similarity_search(query, k =1)\n",
    "retrived_result"
   ]
  },
  {
   "cell_type": "code",
   "execution_count": null,
   "metadata": {},
   "outputs": [],
   "source": []
  }
 ],
 "metadata": {
  "kernelspec": {
   "display_name": ".venv",
   "language": "python",
   "name": "python3"
  },
  "language_info": {
   "codemirror_mode": {
    "name": "ipython",
    "version": 3
   },
   "file_extension": ".py",
   "mimetype": "text/x-python",
   "name": "python",
   "nbconvert_exporter": "python",
   "pygments_lexer": "ipython3",
   "version": "3.9.6"
  }
 },
 "nbformat": 4,
 "nbformat_minor": 2
}
